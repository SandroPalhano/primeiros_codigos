{
 "cells": [
  {
   "cell_type": "markdown",
   "id": "608a31ad",
   "metadata": {},
   "source": [
    "### Estruturas While"
   ]
  },
  {
   "cell_type": "code",
   "execution_count": null,
   "id": "6d2a7dff",
   "metadata": {},
   "outputs": [],
   "source": [
    "venda = input('Registre um produto. Para cancelar o registro de um novo produto, basta apertar enter com a caixa vazia')\n",
    "vendas = []\n",
    "while venda != '':\n",
    "    vendas.append(venda)\n",
    "    venda = input('Registre um produto. Para cancelar o registro de um novo produto, basta apertar enter com a caixa vazia')\n",
    "    \n",
    "    \n",
    "print ('Registro finalizado. As vendas cadastradas foram: {}'.format(vendas))\n"
   ]
  },
  {
   "cell_type": "code",
   "execution_count": 7,
   "id": "3df7314a",
   "metadata": {},
   "outputs": [
    {
     "name": "stdout",
     "output_type": "stream",
     "text": [
      "Maria bateu a meta. Vendas 941\n",
      "José bateu a meta. Vendas 852\n",
      "Antonio bateu a meta. Vendas 783\n",
      "João bateu a meta. Vendas 714\n",
      "Francisco bateu a meta. Vendas 697\n",
      "Ana bateu a meta. Vendas 686\n",
      "Luiz bateu a meta. Vendas 685\n",
      "Paulo bateu a meta. Vendas 670\n",
      "Carlos bateu a meta. Vendas 631\n",
      "Manoel bateu a meta. Vendas 453\n"
     ]
    }
   ],
   "source": [
    "vendas = [941, 852, 783, 714, 697, 686, 685, 670, 631, 453, 386, 371, 294, 269, 259, 218, 208, 163, 125, 102, 87]\n",
    "vendedores = [\"Maria\", \"José\", \"Antonio\", \"João\", \"Francisco\", \"Ana\", \"Luiz\", \"Paulo\", \"Carlos\", \"Manoel\", \"Pedro\"]\n",
    "meta = 450\n",
    "\n",
    "i = 0\n",
    "\n",
    "while vendas[i] > meta:\n",
    "    print(\"{} bateu a meta. Vendas {}\".format(vendedores[i], vendas[i] ))\n",
    "    i +=  1\n",
    "\n",
    "    "
   ]
  },
  {
   "cell_type": "markdown",
   "id": "1bb4cda7",
   "metadata": {},
   "source": [
    "### Dicionários\n"
   ]
  },
  {
   "cell_type": "code",
   "execution_count": 30,
   "id": "2088152a",
   "metadata": {},
   "outputs": [
    {
     "data": {
      "text/plain": [
       "[10, 11, 12]"
      ]
     },
     "execution_count": 30,
     "metadata": {},
     "output_type": "execute_result"
    }
   ],
   "source": [
    "dicionario = {'Chave1': 'valor1', 'Chave2': 'valor2', 'Chave3':[10, 11, 12],'Chave4':[\"abobora\", \"banana\", \"pepino\"]}\n",
    "dicionario['Chave3']\n"
   ]
  },
  {
   "cell_type": "code",
   "execution_count": 27,
   "id": "0776a359",
   "metadata": {},
   "outputs": [
    {
     "data": {
      "text/plain": [
       "11"
      ]
     },
     "execution_count": 27,
     "metadata": {},
     "output_type": "execute_result"
    }
   ],
   "source": [
    "dicionario['Chave3'][1]"
   ]
  },
  {
   "cell_type": "code",
   "execution_count": 31,
   "id": "994d97ae",
   "metadata": {},
   "outputs": [
    {
     "data": {
      "text/plain": [
       "'PEPINO'"
      ]
     },
     "execution_count": 31,
     "metadata": {},
     "output_type": "execute_result"
    }
   ],
   "source": [
    "dicionario['Chave4'][2].upper()"
   ]
  },
  {
   "cell_type": "code",
   "execution_count": 29,
   "id": "1c39e3bd",
   "metadata": {},
   "outputs": [
    {
     "data": {
      "text/plain": [
       "'abobora'"
      ]
     },
     "execution_count": 29,
     "metadata": {},
     "output_type": "execute_result"
    }
   ],
   "source": [
    "dicionario['Chave4'][0].lower()"
   ]
  },
  {
   "cell_type": "code",
   "execution_count": 34,
   "id": "e4c876d1",
   "metadata": {},
   "outputs": [
    {
     "data": {
      "text/plain": [
       "[10, 11, 12]"
      ]
     },
     "execution_count": 34,
     "metadata": {},
     "output_type": "execute_result"
    }
   ],
   "source": [
    "dicionario ['Chave3']"
   ]
  },
  {
   "cell_type": "code",
   "execution_count": 43,
   "id": "4f1227e0",
   "metadata": {},
   "outputs": [],
   "source": [
    "dicionario['Chave3'] = dicionario['Chave3'] =- 10, - 11, 12\n"
   ]
  },
  {
   "cell_type": "code",
   "execution_count": 44,
   "id": "cead00eb",
   "metadata": {},
   "outputs": [
    {
     "data": {
      "text/plain": [
       "(-10, -11, 12)"
      ]
     },
     "execution_count": 44,
     "metadata": {},
     "output_type": "execute_result"
    }
   ],
   "source": [
    "dicionario['Chave3']"
   ]
  },
  {
   "cell_type": "code",
   "execution_count": 51,
   "id": "ad24ae12",
   "metadata": {},
   "outputs": [],
   "source": [
    "a = {}\n",
    "a['blue é um'] = \"pet,\"\n",
    "a['Meu pet'] = 16"
   ]
  },
  {
   "cell_type": "code",
   "execution_count": 60,
   "id": "f447e1d3",
   "metadata": {},
   "outputs": [
    {
     "data": {
      "text/plain": [
       "'valor'"
      ]
     },
     "execution_count": 60,
     "metadata": {},
     "output_type": "execute_result"
    }
   ],
   "source": [
    "a = {'chave1':{'chave2':{'chave3':'valor'}}}\n",
    "a['chave1']['chave2']['chave3']"
   ]
  },
  {
   "cell_type": "markdown",
   "id": "28edf2df",
   "metadata": {},
   "source": [
    "##### Métodos"
   ]
  },
  {
   "cell_type": "code",
   "execution_count": 64,
   "id": "f76ff373",
   "metadata": {},
   "outputs": [
    {
     "data": {
      "text/plain": [
       "dict_keys(['chave1', 'chave2', 'chave3'])"
      ]
     },
     "execution_count": 64,
     "metadata": {},
     "output_type": "execute_result"
    }
   ],
   "source": [
    "a = {'chave1': 1, 'chave2': 2, 'chave3':3}\n",
    "a.keys()"
   ]
  },
  {
   "cell_type": "code",
   "execution_count": 65,
   "id": "71fe152d",
   "metadata": {},
   "outputs": [
    {
     "data": {
      "text/plain": [
       "dict_values([1, 2, 3])"
      ]
     },
     "execution_count": 65,
     "metadata": {},
     "output_type": "execute_result"
    }
   ],
   "source": [
    "a.values()"
   ]
  },
  {
   "cell_type": "code",
   "execution_count": 66,
   "id": "ec98067c",
   "metadata": {},
   "outputs": [
    {
     "data": {
      "text/plain": [
       "dict_items([('chave1', 1), ('chave2', 2), ('chave3', 3)])"
      ]
     },
     "execution_count": 66,
     "metadata": {},
     "output_type": "execute_result"
    }
   ],
   "source": [
    "a.items()"
   ]
  },
  {
   "cell_type": "markdown",
   "id": "d5c9c801",
   "metadata": {},
   "source": [
    "### Tuplas"
   ]
  },
  {
   "cell_type": "code",
   "execution_count": 78,
   "id": "b2d4b28e",
   "metadata": {},
   "outputs": [
    {
     "data": {
      "text/plain": [
       "6"
      ]
     },
     "execution_count": 78,
     "metadata": {},
     "output_type": "execute_result"
    }
   ],
   "source": [
    "t = (3, 4, 1, 'Sandro', 'Sandro','imortal')\n",
    "len(t)"
   ]
  },
  {
   "cell_type": "code",
   "execution_count": 72,
   "id": "a5f22a71",
   "metadata": {},
   "outputs": [
    {
     "data": {
      "text/plain": [
       "(3, 4, 1, 'Sandro', 'imortal')"
      ]
     },
     "execution_count": 72,
     "metadata": {},
     "output_type": "execute_result"
    }
   ],
   "source": [
    "t"
   ]
  },
  {
   "cell_type": "code",
   "execution_count": 73,
   "id": "dae25ccb",
   "metadata": {},
   "outputs": [
    {
     "data": {
      "text/plain": [
       "'Sandro'"
      ]
     },
     "execution_count": 73,
     "metadata": {},
     "output_type": "execute_result"
    }
   ],
   "source": [
    "t[3]"
   ]
  },
  {
   "cell_type": "code",
   "execution_count": 74,
   "id": "769e1e72",
   "metadata": {},
   "outputs": [
    {
     "data": {
      "text/plain": [
       "'imortal'"
      ]
     },
     "execution_count": 74,
     "metadata": {},
     "output_type": "execute_result"
    }
   ],
   "source": [
    "t[-1]"
   ]
  },
  {
   "cell_type": "code",
   "execution_count": 76,
   "id": "627b9bb2",
   "metadata": {},
   "outputs": [
    {
     "data": {
      "text/plain": [
       "3"
      ]
     },
     "execution_count": 76,
     "metadata": {},
     "output_type": "execute_result"
    }
   ],
   "source": [
    "t.index('Sandro')"
   ]
  },
  {
   "cell_type": "code",
   "execution_count": 79,
   "id": "c4fd5231",
   "metadata": {},
   "outputs": [
    {
     "data": {
      "text/plain": [
       "2"
      ]
     },
     "execution_count": 79,
     "metadata": {},
     "output_type": "execute_result"
    }
   ],
   "source": [
    "t.count('Sandro')"
   ]
  },
  {
   "cell_type": "markdown",
   "id": "3c91d145",
   "metadata": {},
   "source": [
    "#### Sets - Mostra elementos não repetidos."
   ]
  },
  {
   "cell_type": "code",
   "execution_count": 82,
   "id": "eab4c9a5",
   "metadata": {},
   "outputs": [
    {
     "data": {
      "text/plain": [
       "{1, 2}"
      ]
     },
     "execution_count": 82,
     "metadata": {},
     "output_type": "execute_result"
    }
   ],
   "source": [
    "x = set()\n",
    "x.add(2)\n",
    "x.add(1)\n",
    "x"
   ]
  },
  {
   "cell_type": "code",
   "execution_count": 83,
   "id": "6cd44bd9",
   "metadata": {},
   "outputs": [
    {
     "data": {
      "text/plain": [
       "{1, 2, 3, 4, 5, 6, 7, 8}"
      ]
     },
     "execution_count": 83,
     "metadata": {},
     "output_type": "execute_result"
    }
   ],
   "source": [
    "l = {1, 1, 2, 2, 3, 4, 5, 5, 6 , 7, 7, 8, 8}\n",
    "set(l)"
   ]
  },
  {
   "cell_type": "markdown",
   "id": "bf17347a",
   "metadata": {},
   "source": [
    "#### If, Elif, Else"
   ]
  },
  {
   "cell_type": "code",
   "execution_count": 86,
   "id": "dd42e741",
   "metadata": {},
   "outputs": [
    {
     "name": "stdout",
     "output_type": "stream",
     "text": [
      "Triangulo válido!\n"
     ]
    }
   ],
   "source": [
    "a = 3\n",
    "b = 6\n",
    "c = 9\n",
    "\n",
    "if (a+b >= c) and (a+c>=b) and (b+c >=a):\n",
    "    print('Triangulo válido!')\n",
    "else: \n",
    "    print('Triangulo Inválido!')\n"
   ]
  },
  {
   "cell_type": "code",
   "execution_count": 94,
   "id": "9ed6862a",
   "metadata": {},
   "outputs": [
    {
     "name": "stdout",
     "output_type": "stream",
     "text": [
      "Sandro é um cara super legal!\n"
     ]
    }
   ],
   "source": [
    "pessoa = 'Sandro'\n",
    "\n",
    "if pessoa == 'Sandro':\n",
    "    print('Sandro é um cara super legal!')\n",
    "elif pessoa == 'Loana': \n",
    "    print('Loana é uma mulher incrível!')\n",
    "else:\n",
    "    print('Essa pessoa não é legal!')"
   ]
  },
  {
   "cell_type": "code",
   "execution_count": null,
   "id": "7c74d147",
   "metadata": {},
   "outputs": [],
   "source": []
  }
 ],
 "metadata": {
  "kernelspec": {
   "display_name": "Python 3 (ipykernel)",
   "language": "python",
   "name": "python3"
  },
  "language_info": {
   "codemirror_mode": {
    "name": "ipython",
    "version": 3
   },
   "file_extension": ".py",
   "mimetype": "text/x-python",
   "name": "python",
   "nbconvert_exporter": "python",
   "pygments_lexer": "ipython3",
   "version": "3.9.12"
  }
 },
 "nbformat": 4,
 "nbformat_minor": 5
}
